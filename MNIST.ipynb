{
  "nbformat": 4,
  "nbformat_minor": 0,
  "metadata": {
    "colab": {
      "name": "MNIST.ipynb",
      "provenance": []
    },
    "kernelspec": {
      "name": "python3",
      "display_name": "Python 3"
    },
    "language_info": {
      "name": "python"
    }
  },
  "cells": [
    {
      "cell_type": "code",
      "metadata": {
        "colab": {
          "base_uri": "https://localhost:8080/",
          "height": 340
        },
        "id": "SuMN5nmc9zfV",
        "outputId": "85d4da70-ce5d-4e61-cead-e47c0adbb2d2"
      },
      "source": [
        "%matplotlib inline\n",
        "\n",
        "#!pip install helper\n",
        "\n",
        "import helper\n",
        "import torch\n",
        "from torch import nn \n",
        "import torch.nn.functional as F\n",
        "from torchvision import datasets, transforms, utils\n",
        "\n",
        "\n",
        "transform = transforms.Compose([transforms.ToTensor(), \n",
        "                               transforms.Normalize((0.5), (0.5)),\n",
        "                               ])\n",
        "\n",
        "trainset = datasets.MNIST('-/.pytorch/MNIST_data/', download = True, train= True, transform=transform)\n",
        "trainloader = torch.utils.data.DataLoader(trainset,batch_size = 64, shuffle = True)\n",
        "\n",
        "model = nn.Sequential(nn.Linear(784, 128),\n",
        "                      nn.ReLU(),\n",
        "                      nn.Linear(128, 64),\n",
        "                      nn.ReLU(),\n",
        "                      nn.Linear(64, 10),\n",
        "                      nn.LogSoftmax(dim=1))\n",
        "\n",
        "criterion = nn.NLLLoss() \n",
        "optimizer = torch.optim.SGD(model.parameters(), lr=0.003)\n",
        "\n",
        "epochs = 5\n",
        "for e in range(epochs):\n",
        "  running_loss = 0\n",
        "  for images, labels in trainloader:\n",
        "    images = images.view(images.shape[0], -1)\n",
        "\n",
        "    optimizer.zero_grad()\n",
        "\n",
        "    output = model.forward(images)\n",
        "    loss = criterion(output, labels)\n",
        "    loss.backward()\n",
        "    optimizer.step()\n",
        "\n",
        "    running_loss += loss.item()\n",
        "  else:\n",
        "    print(f\"Training loss: {running_loss/len(trainloader)}\")\n",
        "\n",
        "images, labels = next(iter(trainloader))\n",
        "\n",
        "img= images[0].view(1,784)\n",
        "\n",
        "with torch.no_grad():\n",
        "  logits = model.forward(img)\n",
        "\n",
        "ps = F.softmax(logits, dim=1)\n",
        "helper.view_classify(img.view(1, 28, 28), ps)"
      ],
      "execution_count": 2,
      "outputs": [
        {
          "output_type": "stream",
          "name": "stdout",
          "text": [
            "Training loss: 1.9031716799939364\n",
            "Training loss: 0.8265524603156392\n",
            "Training loss: 0.5095440835269021\n",
            "Training loss: 0.4213661383559455\n",
            "Training loss: 0.37985614993806077\n"
          ]
        },
        {
          "output_type": "display_data",
          "data": {
            "image/png": "[encoded data removed]",
            "text/plain": [
              "<Figure size 432x648 with 2 Axes>"
            ]
          },
          "metadata": {
            "needs_background": "light"
          }
        }
      ]
    }
  ]
}